{
 "cells": [
  {
   "cell_type": "markdown",
   "metadata": {},
   "source": [
    "[Day 6](http://adventofcode.com/day/6): Probably a Fire Hazard\n",
    "----\n",
    "\n",
    "When QA gives me instructions to reproduce a bug\n",
    "\n",
    "![](http://tclhost.com/1bTelKB.gif)\n",
    "\n",
    "[Source](When QA gives me instructions to reproduce a bug)"
   ]
  },
  {
   "cell_type": "code",
   "execution_count": 1,
   "metadata": {
    "collapsed": false
   },
   "outputs": [],
   "source": [
    "reset -fs"
   ]
  },
  {
   "cell_type": "code",
   "execution_count": 2,
   "metadata": {
    "collapsed": false
   },
   "outputs": [],
   "source": [
    "import numpy as np"
   ]
  },
  {
   "cell_type": "code",
   "execution_count": 24,
   "metadata": {
    "collapsed": false
   },
   "outputs": [
    {
     "data": {
      "text/plain": [
       "array([[ 1.,  1.,  0.],\n",
       "       [ 1.,  1.,  0.],\n",
       "       [ 1.,  1.,  0.]])"
      ]
     },
     "execution_count": 24,
     "metadata": {},
     "output_type": "execute_result"
    }
   ],
   "source": [
    "# Test flip bit array value logic\n",
    "\n",
    "light_grid = np.zeros(shape=[3, 3])\n",
    "\n",
    "start_x = 0\n",
    "stop_x = 1\n",
    "start_y = 0\n",
    "stop_y = 2\n",
    "\n",
    "\n",
    "light_grid[start_y:stop_y+1, start_x:stop_x+1] = np.ones(shape=[stop_y+1-start_y, stop_x+1-start_x])\n",
    "light_grid"
   ]
  },
  {
   "cell_type": "code",
   "execution_count": 27,
   "metadata": {
    "collapsed": false
   },
   "outputs": [],
   "source": [
    "def setup_lights(light_grid, instruction):\n",
    "    \"\"\"Given a nxm array of binary values, follow instructions update light grid\n",
    "\n",
    "    Lights in your grid are numbered from 0 to 999 in each direction; \n",
    "    the lights at each corner are at 0,0, 0,999, 999,999, and 999,0. \n",
    "    The instructions include whether to turn on, turn off, or toggle various inclusive ranges \n",
    "    given as coordinate pairs. \n",
    "    Each coordinate pair represents opposite corners of a rectangle, inclusive; \n",
    "    a coordinate pair like 0,0 through 2,2 therefore refers to 9 lights in a 3x3 square. \n",
    "    The lights all start turned off.\n",
    "    \"\"\"\n",
    "    if instructions.startswith('toggle'):\n",
    "        behavior, start_corr, _, stop_corr = instructions.split(' ')\n",
    "        start_x, start_y = start_corr.split(',')\n",
    "        stop_x, stop_y = stop_corr.split(',')\n",
    "    elif instructions.startswith('turn on') or insructions.startswith('turn off'):\n",
    "        behavior_part_1, behavior_part_2, start_corr, _, stop_corr = instructions.split(' ')\n",
    "        behavior = \" \".join([behavior_part_1, behavior_part_2])\n",
    "        start_x, start_y = start_corr.split(',')\n",
    "        stop_x, stop_y = stop_corr.split(',')\n",
    "        if behavior == 'turn on':\n",
    "            lights = ones\n",
    "        elif behavior == 'turn off':\n",
    "            lights = zeros"
   ]
  },
  {
   "cell_type": "code",
   "execution_count": 28,
   "metadata": {
    "collapsed": false
   },
   "outputs": [
    {
     "ename": "NameError",
     "evalue": "name 'ones' is not defined",
     "output_type": "error",
     "traceback": [
      "\u001b[0;31m---------------------------------------------------------------------------\u001b[0m",
      "\u001b[0;31mNameError\u001b[0m                                 Traceback (most recent call last)",
      "\u001b[0;32m<ipython-input-28-2c39170b5866>\u001b[0m in \u001b[0;36m<module>\u001b[0;34m()\u001b[0m\n\u001b[1;32m      6\u001b[0m     \u001b[0;32mreturn\u001b[0m \u001b[0;34m\"all tests pass :)\"\u001b[0m\u001b[0;34m\u001b[0m\u001b[0m\n\u001b[1;32m      7\u001b[0m \u001b[0;34m\u001b[0m\u001b[0m\n\u001b[0;32m----> 8\u001b[0;31m \u001b[0mprint\u001b[0m\u001b[0;34m(\u001b[0m\u001b[0mtest_setup_lights\u001b[0m\u001b[0;34m(\u001b[0m\u001b[0;34m)\u001b[0m\u001b[0;34m)\u001b[0m\u001b[0;34m\u001b[0m\u001b[0m\n\u001b[0m",
      "\u001b[0;32m<ipython-input-28-2c39170b5866>\u001b[0m in \u001b[0;36mtest_setup_lights\u001b[0;34m()\u001b[0m\n\u001b[1;32m      3\u001b[0m     \"\"\"\n\u001b[1;32m      4\u001b[0m     \u001b[0mlight_grid\u001b[0m \u001b[0;34m=\u001b[0m \u001b[0mnp\u001b[0m\u001b[0;34m.\u001b[0m\u001b[0mzeros\u001b[0m\u001b[0;34m(\u001b[0m\u001b[0mshape\u001b[0m\u001b[0;34m=\u001b[0m\u001b[0;34m[\u001b[0m\u001b[0;36m2\u001b[0m\u001b[0;34m,\u001b[0m \u001b[0;36m2\u001b[0m\u001b[0;34m]\u001b[0m\u001b[0;34m)\u001b[0m\u001b[0;34m\u001b[0m\u001b[0m\n\u001b[0;32m----> 5\u001b[0;31m     \u001b[0;32massert\u001b[0m \u001b[0msetup_lights\u001b[0m\u001b[0;34m(\u001b[0m\u001b[0mlight_grid\u001b[0m\u001b[0;34m,\u001b[0m \u001b[0;34m'turn on 0,0 through 0,0'\u001b[0m\u001b[0;34m)\u001b[0m \u001b[0;34m==\u001b[0m \u001b[0marray\u001b[0m\u001b[0;34m(\u001b[0m\u001b[0;34m[\u001b[0m\u001b[0;34m[\u001b[0m \u001b[0;36m1\u001b[0m\u001b[0;34m,\u001b[0m  \u001b[0;36m0\u001b[0m\u001b[0;34m]\u001b[0m\u001b[0;34m,\u001b[0m \u001b[0;34m[\u001b[0m\u001b[0;36m0\u001b[0m\u001b[0;34m,\u001b[0m \u001b[0;36m0\u001b[0m\u001b[0;34m]\u001b[0m\u001b[0;34m]\u001b[0m\u001b[0;34m)\u001b[0m\u001b[0;34m\u001b[0m\u001b[0m\n\u001b[0m\u001b[1;32m      6\u001b[0m     \u001b[0;32mreturn\u001b[0m \u001b[0;34m\"all tests pass :)\"\u001b[0m\u001b[0;34m\u001b[0m\u001b[0m\n\u001b[1;32m      7\u001b[0m \u001b[0;34m\u001b[0m\u001b[0m\n",
      "\u001b[0;32m<ipython-input-27-c1638212cce9>\u001b[0m in \u001b[0;36msetup_lights\u001b[0;34m(light_grid, instruction)\u001b[0m\n\u001b[1;32m     20\u001b[0m         \u001b[0mstop_x\u001b[0m\u001b[0;34m,\u001b[0m \u001b[0mstop_y\u001b[0m \u001b[0;34m=\u001b[0m \u001b[0mstop_corr\u001b[0m\u001b[0;34m.\u001b[0m\u001b[0msplit\u001b[0m\u001b[0;34m(\u001b[0m\u001b[0;34m','\u001b[0m\u001b[0;34m)\u001b[0m\u001b[0;34m\u001b[0m\u001b[0m\n\u001b[1;32m     21\u001b[0m         \u001b[0;32mif\u001b[0m \u001b[0mbehavior\u001b[0m \u001b[0;34m==\u001b[0m \u001b[0;34m'turn on'\u001b[0m\u001b[0;34m:\u001b[0m\u001b[0;34m\u001b[0m\u001b[0m\n\u001b[0;32m---> 22\u001b[0;31m             \u001b[0mlights\u001b[0m \u001b[0;34m=\u001b[0m \u001b[0mones\u001b[0m\u001b[0;34m\u001b[0m\u001b[0m\n\u001b[0m\u001b[1;32m     23\u001b[0m         \u001b[0;32melif\u001b[0m \u001b[0mbehavior\u001b[0m \u001b[0;34m==\u001b[0m \u001b[0;34m'turn off'\u001b[0m\u001b[0;34m:\u001b[0m\u001b[0;34m\u001b[0m\u001b[0m\n\u001b[1;32m     24\u001b[0m             \u001b[0mlights\u001b[0m \u001b[0;34m=\u001b[0m \u001b[0mzeros\u001b[0m\u001b[0;34m\u001b[0m\u001b[0m\n",
      "\u001b[0;31mNameError\u001b[0m: name 'ones' is not defined"
     ]
    }
   ],
   "source": [
    "def test_setup_lights():\n",
    "    \"\"\"Test setup lights string function\n",
    "    \"\"\"\n",
    "    light_grid = np.zeros(shape=[2, 2])\n",
    "    assert setup_lights(light_grid, 'turn on 0,0 through 0,0') == array([[ 1,  0], [0, 0]])\n",
    "    return \"all tests pass :)\"\n",
    "\n",
    "print(test_setup_lights())"
   ]
  },
  {
   "cell_type": "code",
   "execution_count": 29,
   "metadata": {
    "collapsed": false
   },
   "outputs": [],
   "source": [
    "# Load data\n",
    "try:\n",
    "    with open(\"data/day_06_input.txt\") as f:\n",
    "        instructions = f.read().splitlines()\n",
    "except IOError:\n",
    "    print(\"File not found.\")"
   ]
  },
  {
   "cell_type": "code",
   "execution_count": 30,
   "metadata": {
    "collapsed": false
   },
   "outputs": [
    {
     "ename": "AttributeError",
     "evalue": "'list' object has no attribute 'startswith'",
     "output_type": "error",
     "traceback": [
      "\u001b[0;31m---------------------------------------------------------------------------\u001b[0m",
      "\u001b[0;31mAttributeError\u001b[0m                            Traceback (most recent call last)",
      "\u001b[0;32m<ipython-input-30-474f625e58e2>\u001b[0m in \u001b[0;36m<module>\u001b[0;34m()\u001b[0m\n\u001b[1;32m      3\u001b[0m \u001b[0;34m\u001b[0m\u001b[0m\n\u001b[1;32m      4\u001b[0m \u001b[0;32mfor\u001b[0m \u001b[0minstruction\u001b[0m \u001b[0;32min\u001b[0m \u001b[0minstructions\u001b[0m\u001b[0;34m:\u001b[0m\u001b[0;34m\u001b[0m\u001b[0m\n\u001b[0;32m----> 5\u001b[0;31m     \u001b[0msetup_lights\u001b[0m\u001b[0;34m(\u001b[0m\u001b[0mlight_grid\u001b[0m\u001b[0;34m,\u001b[0m \u001b[0minstruction\u001b[0m\u001b[0;34m)\u001b[0m\u001b[0;34m\u001b[0m\u001b[0m\n\u001b[0m",
      "\u001b[0;32m<ipython-input-27-c1638212cce9>\u001b[0m in \u001b[0;36msetup_lights\u001b[0;34m(light_grid, instruction)\u001b[0m\n\u001b[1;32m     10\u001b[0m     \u001b[0mThe\u001b[0m \u001b[0mlights\u001b[0m \u001b[0mall\u001b[0m \u001b[0mstart\u001b[0m \u001b[0mturned\u001b[0m \u001b[0moff\u001b[0m\u001b[0;34m.\u001b[0m\u001b[0;34m\u001b[0m\u001b[0m\n\u001b[1;32m     11\u001b[0m     \"\"\"\n\u001b[0;32m---> 12\u001b[0;31m     \u001b[0;32mif\u001b[0m \u001b[0minstructions\u001b[0m\u001b[0;34m.\u001b[0m\u001b[0mstartswith\u001b[0m\u001b[0;34m(\u001b[0m\u001b[0;34m'toggle'\u001b[0m\u001b[0;34m)\u001b[0m\u001b[0;34m:\u001b[0m\u001b[0;34m\u001b[0m\u001b[0m\n\u001b[0m\u001b[1;32m     13\u001b[0m         \u001b[0mbehavior\u001b[0m\u001b[0;34m,\u001b[0m \u001b[0mstart_corr\u001b[0m\u001b[0;34m,\u001b[0m \u001b[0m_\u001b[0m\u001b[0;34m,\u001b[0m \u001b[0mstop_corr\u001b[0m \u001b[0;34m=\u001b[0m \u001b[0minstructions\u001b[0m\u001b[0;34m.\u001b[0m\u001b[0msplit\u001b[0m\u001b[0;34m(\u001b[0m\u001b[0;34m' '\u001b[0m\u001b[0;34m)\u001b[0m\u001b[0;34m\u001b[0m\u001b[0m\n\u001b[1;32m     14\u001b[0m         \u001b[0mstart_x\u001b[0m\u001b[0;34m,\u001b[0m \u001b[0mstart_y\u001b[0m \u001b[0;34m=\u001b[0m \u001b[0mstart_corr\u001b[0m\u001b[0;34m.\u001b[0m\u001b[0msplit\u001b[0m\u001b[0;34m(\u001b[0m\u001b[0;34m','\u001b[0m\u001b[0;34m)\u001b[0m\u001b[0;34m\u001b[0m\u001b[0m\n",
      "\u001b[0;31mAttributeError\u001b[0m: 'list' object has no attribute 'startswith'"
     ]
    }
   ],
   "source": [
    "# How many strings are nice?\n",
    "light_grid = []\n",
    "\n",
    "for instruction in instructions:\n",
    "    setup_lights(light_grid, instruction)"
   ]
  },
  {
   "cell_type": "code",
   "execution_count": 53,
   "metadata": {
    "collapsed": false
   },
   "outputs": [
    {
     "data": {
      "text/plain": [
       "'turn on 887,9 through 959,629'"
      ]
     },
     "execution_count": 53,
     "metadata": {},
     "output_type": "execute_result"
    }
   ],
   "source": [
    "instructions[0]"
   ]
  },
  {
   "cell_type": "markdown",
   "metadata": {},
   "source": [
    "<br>"
   ]
  }
 ],
 "metadata": {
  "kernelspec": {
   "display_name": "Python 3",
   "language": "python",
   "name": "python3"
  },
  "language_info": {
   "codemirror_mode": {
    "name": "ipython",
    "version": 3
   },
   "file_extension": ".py",
   "mimetype": "text/x-python",
   "name": "python",
   "nbconvert_exporter": "python",
   "pygments_lexer": "ipython3",
   "version": "3.5.1"
  }
 },
 "nbformat": 4,
 "nbformat_minor": 0
}
