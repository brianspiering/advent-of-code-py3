{
 "cells": [
  {
   "cell_type": "markdown",
   "metadata": {},
   "source": [
    "[Day 5](http://adventofcode.com/day/5): Doesn't He Have Intern-Elves For This? \n",
    "----\n",
    "\n",
    "When I find a hard-coded string during code review\n",
    "\n",
    "![](http://tclhost.com/f7IaLC9.gif)\n",
    "\n",
    "[Source](http://thecodinglove.com/post/111849339882/when-i-find-a-hard-coded-string-during-code-review)"
   ]
  },
  {
   "cell_type": "code",
   "execution_count": 19,
   "metadata": {
    "collapsed": false
   },
   "outputs": [],
   "source": [
    "def is_nice(string):\n",
    "    \"\"\"A nice string is one with all of the following properties:\n",
    "\n",
    "    - It contains at least three vowels (aeiou only), like aei, xazegov, or aeiouaeiouaeiou.\n",
    "    - It contains at least one letter that appears twice in a row, like xx, abcdde (dd), or aabbccdd (aa, bb, cc, or dd).\n",
    "    - It does not contain the strings ab, cd, pq, or xy, even if they are part of one of the other requirements.\n",
    "    \"\"\"\n",
    "    vowels = 'aeiou'\n",
    "    return len(set(string).intersection(vowels)) >= 3"
   ]
  },
  {
   "cell_type": "code",
   "execution_count": 21,
   "metadata": {
    "collapsed": false
   },
   "outputs": [
    {
     "data": {
      "text/plain": [
       "True"
      ]
     },
     "execution_count": 21,
     "metadata": {},
     "output_type": "execute_result"
    }
   ],
   "source": [
    "is_nice('aei')"
   ]
  },
  {
   "cell_type": "code",
   "execution_count": 23,
   "metadata": {
    "collapsed": false
   },
   "outputs": [
    {
     "name": "stdout",
     "output_type": "stream",
     "text": [
      "all tests pass :)\n"
     ]
    }
   ],
   "source": [
    "def test_is_nice():\n",
    "    \"\"\"Test is nice string function\n",
    "    \"\"\"\n",
    "    assert is_nice('aei') == True\n",
    "    assert is_nice('xazegov') == True\n",
    "    assert is_nice('aeiouaeiouaeiou') == True\n",
    "    \n",
    "    return \"all tests pass :)\"\n",
    "\n",
    "print(test_is_nice())"
   ]
  },
  {
   "cell_type": "code",
   "execution_count": 11,
   "metadata": {
    "collapsed": false
   },
   "outputs": [],
   "source": [
    "# Load data\n",
    "try:\n",
    "    with open(\"data/day_05_input.txt\") as f:\n",
    "        strings = f.read().splitlines()\n",
    "except IOError:\n",
    "    print(\"File not found.\")"
   ]
  },
  {
   "cell_type": "code",
   "execution_count": 17,
   "metadata": {
    "collapsed": false
   },
   "outputs": [
    {
     "data": {
      "text/plain": [
       "0"
      ]
     },
     "execution_count": 17,
     "metadata": {},
     "output_type": "execute_result"
    }
   ],
   "source": [
    "# How many strings are nice?\n",
    "\n",
    "len(list(filter(is_nice, strings)))"
   ]
  },
  {
   "cell_type": "markdown",
   "metadata": {},
   "source": [
    "<br>"
   ]
  }
 ],
 "metadata": {
  "kernelspec": {
   "display_name": "Python 3",
   "language": "python",
   "name": "python3"
  },
  "language_info": {
   "codemirror_mode": {
    "name": "ipython",
    "version": 3
   },
   "file_extension": ".py",
   "mimetype": "text/x-python",
   "name": "python",
   "nbconvert_exporter": "python",
   "pygments_lexer": "ipython3",
   "version": "3.5.1"
  }
 },
 "nbformat": 4,
 "nbformat_minor": 0
}
