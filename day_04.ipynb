{
 "cells": [
  {
   "cell_type": "markdown",
   "metadata": {},
   "source": [
    "[Day 3](http://adventofcode.com/day/4): The Ideal Stocking Stuffer\n",
    "----\n",
    "\n",
    "\n",
    "When passwords are stored as md5 in the database\n",
    "\n",
    "![](http://i.imgur.com/knwHjrL.gif)\n",
    "\n",
    "[Source](http://thecodinglove.com/post/62255824010/when-passwords-are-stored-as-md5-in-the-database)"
   ]
  },
  {
   "cell_type": "code",
   "execution_count": 4,
   "metadata": {
    "collapsed": false
   },
   "outputs": [],
   "source": [
    "from hashlib import md5"
   ]
  },
  {
   "cell_type": "code",
   "execution_count": 7,
   "metadata": {
    "collapsed": true
   },
   "outputs": [],
   "source": [
    "def find_lowest_hash_val(sercet_key):\n",
    "    \"\"\"  Find MD5 hashes which, in hexadecimal, start with at least five zeroes. \n",
    "    The input to the MD5 hash is some secret key (your puzzle input, given below) followed by a number in decimal. \n",
    "    To mine AdventCoins, you must find Santa the lowest positive number (no leading zeroes: 1, 2, 3, ...) that produces such a hash.\n",
    "    \"\"\"\n",
    "    pass"
   ]
  },
  {
   "cell_type": "code",
   "execution_count": 8,
   "metadata": {
    "collapsed": false
   },
   "outputs": [
    {
     "ename": "AssertionError",
     "evalue": "",
     "output_type": "error",
     "traceback": [
      "\u001b[0;31m---------------------------------------------------------------------------\u001b[0m",
      "\u001b[0;31mAssertionError\u001b[0m                            Traceback (most recent call last)",
      "\u001b[0;32m<ipython-input-8-bc179445d608>\u001b[0m in \u001b[0;36m<module>\u001b[0;34m()\u001b[0m\n\u001b[1;32m      7\u001b[0m     \u001b[0;32mreturn\u001b[0m \u001b[0;34m\"all tests pass :)\"\u001b[0m\u001b[0;34m\u001b[0m\u001b[0m\n\u001b[1;32m      8\u001b[0m \u001b[0;34m\u001b[0m\u001b[0m\n\u001b[0;32m----> 9\u001b[0;31m \u001b[0mprint\u001b[0m\u001b[0;34m(\u001b[0m\u001b[0mtest_find_lowest_hash_val\u001b[0m\u001b[0;34m(\u001b[0m\u001b[0;34m)\u001b[0m\u001b[0;34m)\u001b[0m\u001b[0;34m\u001b[0m\u001b[0m\n\u001b[0m",
      "\u001b[0;32m<ipython-input-8-bc179445d608>\u001b[0m in \u001b[0;36mtest_find_lowest_hash_val\u001b[0;34m()\u001b[0m\n\u001b[1;32m      2\u001b[0m     \"\"\"Test the find the lowest hash\n\u001b[1;32m      3\u001b[0m     \"\"\"\n\u001b[0;32m----> 4\u001b[0;31m     \u001b[0;32massert\u001b[0m \u001b[0mfind_lowest_hash_val\u001b[0m\u001b[0;34m(\u001b[0m\u001b[0msercet_key\u001b[0m\u001b[0;34m=\u001b[0m\u001b[0;34m'abcdef'\u001b[0m\u001b[0;34m)\u001b[0m \u001b[0;34m==\u001b[0m \u001b[0;36m609043\u001b[0m\u001b[0;34m\u001b[0m\u001b[0m\n\u001b[0m\u001b[1;32m      5\u001b[0m     \u001b[0;32massert\u001b[0m \u001b[0mfind_lowest_hash_val\u001b[0m\u001b[0;34m(\u001b[0m\u001b[0msercet_key\u001b[0m\u001b[0;34m=\u001b[0m\u001b[0;34m'pqrstuv'\u001b[0m\u001b[0;34m)\u001b[0m \u001b[0;34m==\u001b[0m \u001b[0;36m1048970\u001b[0m\u001b[0;34m\u001b[0m\u001b[0m\n\u001b[1;32m      6\u001b[0m \u001b[0;34m\u001b[0m\u001b[0m\n",
      "\u001b[0;31mAssertionError\u001b[0m: "
     ]
    }
   ],
   "source": [
    "def test_find_lowest_hash_val():\n",
    "    \"\"\"Test the find the lowest hash\n",
    "    \"\"\"\n",
    "    assert find_lowest_hash_val(sercet_key='abcdef') == 609043\n",
    "    assert find_lowest_hash_val(sercet_key='pqrstuv') == 1048970\n",
    "    \n",
    "    return \"all tests pass :)\"\n",
    "\n",
    "print(test_find_lowest_hash_val())"
   ]
  },
  {
   "cell_type": "code",
   "execution_count": 9,
   "metadata": {
    "collapsed": false
   },
   "outputs": [],
   "source": [
    "# What is the lowest value for the ahs\n",
    "\n",
    "find_lowest_hash_val(sercet_key='iwrupvqb')"
   ]
  },
  {
   "cell_type": "markdown",
   "metadata": {},
   "source": [
    "<br>"
   ]
  }
 ],
 "metadata": {
  "kernelspec": {
   "display_name": "Python 3",
   "language": "python",
   "name": "python3"
  },
  "language_info": {
   "codemirror_mode": {
    "name": "ipython",
    "version": 3
   },
   "file_extension": ".py",
   "mimetype": "text/x-python",
   "name": "python",
   "nbconvert_exporter": "python",
   "pygments_lexer": "ipython3",
   "version": "3.5.1"
  }
 },
 "nbformat": 4,
 "nbformat_minor": 0
}
