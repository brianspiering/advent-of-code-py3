{
 "cells": [
  {
   "cell_type": "markdown",
   "metadata": {},
   "source": [
    "[Day 3](http://adventofcode.com/day/3): Perfectly Spherical Houses in a Vacuum\n",
    "----\n",
    "\n",
    "\n",
    "Repeating something to the intern for the 5th time:\n",
    "\n",
    "![](http://tclhost.com/HiRkhhQ.gif)\n",
    "\n",
    "[Source](http://thecodinglove.com/post/121345196735/repeating-something-to-the-intern-for-the-5th-time)"
   ]
  },
  {
   "cell_type": "code",
   "execution_count": 139,
   "metadata": {
    "collapsed": false
   },
   "outputs": [],
   "source": [
    "class Santa():\n",
    "\n",
    "    def __init__(self):\n",
    "        self.x = 0\n",
    "        self.y = 0\n",
    "        self.houses_visited = {(0, 0)}\n",
    "        \n",
    "    @property\n",
    "    def n_houses(self):\n",
    "        return len(self.houses_visited)\n",
    "    \n",
    "    def move(self, direction):\n",
    "        \"Move Santa and update novel house count\"\n",
    "        \n",
    "        if direction == '^':\n",
    "            self.y += 1\n",
    "        elif direction == 'v':\n",
    "            self.y -= 1\n",
    "        elif direction == '>':\n",
    "            self.x += 1\n",
    "        elif direction == '<':    \n",
    "            self.x -= 1\n",
    "        \n",
    "        if (self.x, self.y) not in self.houses_visited:\n",
    "            self.houses_visited.add((self.x, self.y))"
   ]
  },
  {
   "cell_type": "code",
   "execution_count": 140,
   "metadata": {
    "collapsed": true
   },
   "outputs": [],
   "source": [
    "def calc_n_houses(santa, route):\n",
    "    \"\"\" Santa 🎅 is delivering presents to an infinite two-dimensional grid of houses.\n",
    "\n",
    "    He begins by delivering a present to the house at his starting location, \n",
    "    and then an elf at the North Pole calls him via radio and tells him where to move next. \n",
    "    Moves are always exactly one house to the north (^), south (v), east (>), or west (<). \n",
    "    After each move, he delivers another present to the house at his new location.\n",
    "    \"\"\"\n",
    "    for move in route:\n",
    "        santa.move(move)\n",
    "    return santa.n_houses"
   ]
  },
  {
   "cell_type": "code",
   "execution_count": 141,
   "metadata": {
    "collapsed": false
   },
   "outputs": [
    {
     "name": "stdout",
     "output_type": "stream",
     "text": [
      "all tests pass :)\n"
     ]
    }
   ],
   "source": [
    "def test_calc_n_houses():\n",
    "    \"\"\"Test numbers of houses visited caculator.\n",
    "    \"\"\"\n",
    "    assert calc_n_houses(Santa(), route='>') == 2\n",
    "    assert calc_n_houses(Santa(), route='^>v<') == 4\n",
    "    assert calc_n_houses(Santa(), route='^v^v^v^v^v') == 2\n",
    "    \n",
    "    return \"all tests pass :)\"\n",
    "\n",
    "print(test_calc_n_houses())"
   ]
  },
  {
   "cell_type": "code",
   "execution_count": 142,
   "metadata": {
    "collapsed": false
   },
   "outputs": [],
   "source": [
    "# Load data\n",
    "try:\n",
    "    with open(\"data/day_03_input.txt\") as f:\n",
    "        route = f.read()\n",
    "except IOError:\n",
    "    print(\"File not found.\")"
   ]
  },
  {
   "cell_type": "code",
   "execution_count": 143,
   "metadata": {
    "collapsed": false
   },
   "outputs": [
    {
     "data": {
      "text/plain": [
       "2565"
      ]
     },
     "execution_count": 143,
     "metadata": {},
     "output_type": "execute_result"
    }
   ],
   "source": [
    "# How many houses is Santa 🎅 going to visit?\n",
    "\n",
    "calc_n_houses(Santa(), route=route)"
   ]
  },
  {
   "cell_type": "markdown",
   "metadata": {},
   "source": [
    "<br>"
   ]
  }
 ],
 "metadata": {
  "kernelspec": {
   "display_name": "Python 3",
   "language": "python",
   "name": "python3"
  },
  "language_info": {
   "codemirror_mode": {
    "name": "ipython",
    "version": 3
   },
   "file_extension": ".py",
   "mimetype": "text/x-python",
   "name": "python",
   "nbconvert_exporter": "python",
   "pygments_lexer": "ipython3",
   "version": "3.5.1"
  }
 },
 "nbformat": 4,
 "nbformat_minor": 0
}
