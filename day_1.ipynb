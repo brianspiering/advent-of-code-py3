{
 "cells": [
  {
   "cell_type": "markdown",
   "metadata": {},
   "source": [
    "Day 1: Not Quite Lisp\n",
    "----"
   ]
  },
  {
   "cell_type": "code",
   "execution_count": 4,
   "metadata": {
    "collapsed": false
   },
   "outputs": [
    {
     "data": {
      "text/html": [
       "\n",
       "        <iframe\n",
       "            width=\"800\"\n",
       "            height=\"600\"\n",
       "            src=\"http://thecodinglove.com/post/140856197519/searching-for-the-missing-parenthesis\"\n",
       "            frameborder=\"0\"\n",
       "            allowfullscreen\n",
       "        ></iframe>\n",
       "        "
      ],
      "text/plain": [
       "<IPython.lib.display.IFrame at 0x10d2ffc18>"
      ]
     },
     "execution_count": 4,
     "metadata": {},
     "output_type": "execute_result"
    }
   ],
   "source": [
    "from IPython.display import IFrame\n",
    "\n",
    "IFrame(\"http://thecodinglove.com/post/140856197519/searching-for-the-missing-parenthesis\",\n",
    "      width=800,\n",
    "      height=600)"
   ]
  },
  {
   "cell_type": "code",
   "execution_count": 5,
   "metadata": {
    "collapsed": true
   },
   "outputs": [],
   "source": [
    "def calc_floor(parentheses):\n",
    "    \"\"\" Given a string of parentheses, count number of opening and closing \n",
    "    to find which floor Santa 🎅 is going to 🏢.\n",
    "    \n",
    "    - An opening parenthesis, (, means he should go up one floor,\n",
    "    - A closing parenthesis, ), means he should go down one floor.\n",
    "    \"\"\"\n",
    "    return parentheses.count('(') - parentheses.count(')')"
   ]
  },
  {
   "cell_type": "code",
   "execution_count": 6,
   "metadata": {
    "collapsed": false
   },
   "outputs": [
    {
     "name": "stdout",
     "output_type": "stream",
     "text": [
      "all tests pass :)\n"
     ]
    }
   ],
   "source": [
    "def test_calc_floor():\n",
    "    \"\"\"Test floor caculator.\n",
    "    \"\"\"\n",
    "    assert calc_floor('(())') == 0\n",
    "    assert calc_floor('()()') == 0\n",
    "    assert calc_floor('(((') == 3\n",
    "    assert calc_floor('(()(()(') == 3\n",
    "    assert calc_floor('))(((((') == 3\n",
    "    assert calc_floor('())') == -1\n",
    "    assert calc_floor('))(') == -1\n",
    "    assert calc_floor(')))') == -3\n",
    "    assert calc_floor(')())())') == -3\n",
    "\n",
    "    return \"all tests pass :)\"\n",
    "\n",
    "print(test_calc_floor())"
   ]
  },
  {
   "cell_type": "code",
   "execution_count": 16,
   "metadata": {
    "collapsed": false
   },
   "outputs": [],
   "source": [
    "# Load Day 1 data\n",
    "try:\n",
    "    with open(\"day_1_input.txt\") as f:\n",
    "        parentheses = f.read()\n",
    "except IOError:\n",
    "    print(\"File not found.\")"
   ]
  },
  {
   "cell_type": "code",
   "execution_count": 17,
   "metadata": {
    "collapsed": false
   },
   "outputs": [
    {
     "data": {
      "text/plain": [
       "280"
      ]
     },
     "execution_count": 17,
     "metadata": {},
     "output_type": "execute_result"
    }
   ],
   "source": [
    "# Which floor is Santa going to?\n",
    "calc_floor(parentheses)"
   ]
  }
 ],
 "metadata": {
  "kernelspec": {
   "display_name": "Python 3",
   "language": "python",
   "name": "python3"
  },
  "language_info": {
   "codemirror_mode": {
    "name": "ipython",
    "version": 3
   },
   "file_extension": ".py",
   "mimetype": "text/x-python",
   "name": "python",
   "nbconvert_exporter": "python",
   "pygments_lexer": "ipython3",
   "version": "3.5.1"
  }
 },
 "nbformat": 4,
 "nbformat_minor": 0
}
