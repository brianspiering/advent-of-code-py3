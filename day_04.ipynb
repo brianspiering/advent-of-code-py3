{
 "cells": [
  {
   "cell_type": "markdown",
   "metadata": {},
   "source": [
    "[Day 3](http://adventofcode.com/day/4): The Ideal Stocking Stuffer\n",
    "----\n",
    "\n",
    "When passwords are stored as md5 in the database\n",
    "\n",
    "![](http://i.imgur.com/knwHjrL.gif)\n",
    "\n",
    "[Source](http://thecodinglove.com/post/62255824010/when-passwords-are-stored-as-md5-in-the-database)"
   ]
  },
  {
   "cell_type": "code",
   "execution_count": 95,
   "metadata": {
    "collapsed": false
   },
   "outputs": [],
   "source": [
    "from hashlib import md5\n",
    "from itertools import count"
   ]
  },
  {
   "cell_type": "code",
   "execution_count": 96,
   "metadata": {
    "collapsed": false
   },
   "outputs": [],
   "source": [
    "def find_lowest_hash_val(sercet_key):\n",
    "    \"\"\"  Find MD5 hashes which, in hexadecimal, start with at least five zeroes. \n",
    "    \n",
    "    The input to the MD5 hash is some secret key (your puzzle input, given below) followed by a number in decimal. \n",
    "    To mine AdventCoins, you must find Santa the lowest positive number (no leading zeroes: 1, 2, 3, ...) that produces such a hash.\n",
    "    \"\"\"\n",
    "    return next(i for i in count()\n",
    "                   if md5('{}{}'.format(sercet_key, i).encode()).hexdigest().startswith('00000'))"
   ]
  },
  {
   "cell_type": "code",
   "execution_count": 97,
   "metadata": {
    "collapsed": false
   },
   "outputs": [
    {
     "name": "stdout",
     "output_type": "stream",
     "text": [
      "all tests pass :)\n"
     ]
    }
   ],
   "source": [
    "def test_find_lowest_hash_val():\n",
    "    \"\"\"Test the find the lowest hash\n",
    "    \"\"\"\n",
    "    assert find_lowest_hash_val(sercet_key='abcdef') == 609043\n",
    "    assert find_lowest_hash_val(sercet_key='pqrstuv') == 1048970\n",
    "    \n",
    "    return \"all tests pass :)\"\n",
    "\n",
    "print(test_find_lowest_hash_val())"
   ]
  },
  {
   "cell_type": "code",
   "execution_count": 98,
   "metadata": {
    "collapsed": false
   },
   "outputs": [
    {
     "data": {
      "text/plain": [
       "346386"
      ]
     },
     "execution_count": 98,
     "metadata": {},
     "output_type": "execute_result"
    }
   ],
   "source": [
    "# What is the lowest value for the ahs\n",
    "\n",
    "find_lowest_hash_val(sercet_key='iwrupvqb')"
   ]
  },
  {
   "cell_type": "markdown",
   "metadata": {},
   "source": [
    "<br>"
   ]
  }
 ],
 "metadata": {
  "kernelspec": {
   "display_name": "Python 3",
   "language": "python",
   "name": "python3"
  },
  "language_info": {
   "codemirror_mode": {
    "name": "ipython",
    "version": 3
   },
   "file_extension": ".py",
   "mimetype": "text/x-python",
   "name": "python",
   "nbconvert_exporter": "python",
   "pygments_lexer": "ipython3",
   "version": "3.5.1"
  }
 },
 "nbformat": 4,
 "nbformat_minor": 0
}
