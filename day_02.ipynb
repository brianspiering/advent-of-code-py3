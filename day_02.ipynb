{
 "cells": [
  {
   "cell_type": "markdown",
   "metadata": {},
   "source": [
    "[Day 2](http://adventofcode.com/day/2): I Was Told There Would Be No Math\n",
    "----\n",
    "\n",
    "\n",
    "When I am writing a very complicated code with a lot of math:\n",
    "\n",
    "![](http://i.imgur.com/xV6V49u.gif)\n",
    "\n",
    "[Source](http://thecodinglove.com/post/78750702501/when-i-am-writing-a-very-complicated-code-with-a)"
   ]
  },
  {
   "cell_type": "code",
   "execution_count": 119,
   "metadata": {
    "collapsed": true
   },
   "outputs": [],
   "source": [
    "from itertools import combinations as combos\n",
    "\n",
    "def calc_wrapping_paper(dims):\n",
    "    \"\"\" Given a box dimensions, calculate how much wrapping paper needed.\n",
    "    dims = [length/l, width/w, height/h]\n",
    "    Total paper equals the surface area of the box (2*l*w + 2*w*h + 2*h*l) and a little extra (the area of the smallest side)\n",
    "    \"\"\"\n",
    "    return sum(map(lambda x: 2*x[0]*x[1], combos(dims, 2))) + min(map(lambda x: x[0]*x[1], combos(dims, 2)))"
   ]
  },
  {
   "cell_type": "code",
   "execution_count": 120,
   "metadata": {
    "collapsed": false
   },
   "outputs": [
    {
     "name": "stdout",
     "output_type": "stream",
     "text": [
      "all tests pass :)\n"
     ]
    }
   ],
   "source": [
    "def test_calc_wrapping_paper():\n",
    "    \"\"\"Test wrapping paper caculator.\n",
    "    \"\"\"\n",
    "    assert calc_wrapping_paper([2, 3, 4]) == 58\n",
    "    assert calc_wrapping_paper([1, 1, 10]) == 43\n",
    "    \n",
    "    return \"all tests pass :)\"\n",
    "\n",
    "print(test_calc_wrapping_paper())"
   ]
  },
  {
   "cell_type": "code",
   "execution_count": 121,
   "metadata": {
    "collapsed": false
   },
   "outputs": [],
   "source": [
    "# Load data\n",
    "try:\n",
    "    with open(\"data/day_2_input.txt\") as f:\n",
    "        dims_all = f.readlines()\n",
    "except IOError:\n",
    "    print(\"File not found.\")\n",
    "    \n",
    "# Munge the data\n",
    "dims_all = [[int(item) for item in line.rstrip().split('x')] \n",
    "                for line in dims_all]"
   ]
  },
  {
   "cell_type": "code",
   "execution_count": 118,
   "metadata": {
    "collapsed": false
   },
   "outputs": [
    {
     "data": {
      "text/plain": [
       "1606483"
      ]
     },
     "execution_count": 118,
     "metadata": {},
     "output_type": "execute_result"
    }
   ],
   "source": [
    "# How much total wrapping paper is needed?\n",
    "\n",
    "sum(map(calc_wrapping_paper, dims_all))"
   ]
  }
 ],
 "metadata": {
  "kernelspec": {
   "display_name": "Python 3",
   "language": "python",
   "name": "python3"
  },
  "language_info": {
   "codemirror_mode": {
    "name": "ipython",
    "version": 3
   },
   "file_extension": ".py",
   "mimetype": "text/x-python",
   "name": "python",
   "nbconvert_exporter": "python",
   "pygments_lexer": "ipython3",
   "version": "3.5.1"
  }
 },
 "nbformat": 4,
 "nbformat_minor": 0
}
