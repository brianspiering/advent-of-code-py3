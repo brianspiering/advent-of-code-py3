{
 "cells": [
  {
   "cell_type": "markdown",
   "metadata": {},
   "source": [
    "[Day 6](http://adventofcode.com/day/6): Probably a Fire Hazard\n",
    "----\n",
    "\n",
    "When I find a hard-coded string during code review\n",
    "\n",
    "![](http://tclhost.com/f7IaLC9.gif)\n",
    "\n",
    "[Source](http://thecodinglove.com/post/111849339882/when-i-find-a-hard-coded-string-during-code-review)"
   ]
  },
  {
   "cell_type": "code",
   "execution_count": 27,
   "metadata": {
    "collapsed": true
   },
   "outputs": [],
   "source": [
    "from numpy import matrix, zeros, array"
   ]
  },
  {
   "cell_type": "code",
   "execution_count": 37,
   "metadata": {
    "collapsed": false
   },
   "outputs": [],
   "source": []
  },
  {
   "cell_type": "code",
   "execution_count": 43,
   "metadata": {
    "collapsed": false
   },
   "outputs": [
    {
     "ename": "SyntaxError",
     "evalue": "'break' outside loop (<ipython-input-43-d1bf06a02553>, line 18)",
     "output_type": "error",
     "traceback": [
      "\u001b[0;36m  File \u001b[0;32m\"<ipython-input-43-d1bf06a02553>\"\u001b[0;36m, line \u001b[0;32m18\u001b[0m\n\u001b[0;31m    break\u001b[0m\n\u001b[0m    ^\u001b[0m\n\u001b[0;31mSyntaxError\u001b[0m\u001b[0;31m:\u001b[0m 'break' outside loop\n"
     ]
    }
   ],
   "source": [
    "def setup_lights(light_grid, instructions):\n",
    "    \"\"\"Lights in your grid are numbered from 0 to 999 in each direction; \n",
    "    The lights at each corner are at 0,0, 0,999, 999,999, and 999,0. \n",
    "    The instructions include whether to turn on, turn off, or toggle various inclusive ranges given as coordinate pairs. \n",
    "    Each coordinate pair represents opposite corners of a rectangle, inclusive; \n",
    "    A coordinate pair like 0,0 through 2,2 therefore refers to 9 lights in a 3x3 square. The lights all start turned off.\n",
    "    \"\"\"\n",
    "    if instructions.startswith('toggle'):\n",
    "        behavior, start_corr, _, stop_corr = instructions.split(' ')\n",
    "        start_x, start_y = start_corr.split(',')\n",
    "        stop_x, stop_y = stop_corr.split(',')\n",
    "    elif insructions.startswith('turn on') or insructions.startswith('turn off'):\n",
    "        behavior_part_1, behavior_part_2, start_corr, _, stop_corr = instructions.split(' ')\n",
    "        behavior = behavior_part_1 + behavior_part_2\n",
    "        start_x, start_y = start_corr.split(',')\n",
    "        stop_x, stop_y = stop_corr.split(',')\n",
    "    \n",
    "    break"
   ]
  },
  {
   "cell_type": "code",
   "execution_count": 28,
   "metadata": {
    "collapsed": false
   },
   "outputs": [
    {
     "name": "stderr",
     "output_type": "stream",
     "text": [
      "/Users/brian/anaconda/envs/py3/lib/python3.5/site-packages/ipykernel/__main__.py:5: FutureWarning: comparison to `None` will result in an elementwise object comparison in the future.\n"
     ]
    },
    {
     "ename": "AssertionError",
     "evalue": "",
     "output_type": "error",
     "traceback": [
      "\u001b[0;31m---------------------------------------------------------------------------\u001b[0m",
      "\u001b[0;31mAssertionError\u001b[0m                            Traceback (most recent call last)",
      "\u001b[0;32m<ipython-input-28-28df31fdb2b3>\u001b[0m in \u001b[0;36m<module>\u001b[0;34m()\u001b[0m\n\u001b[1;32m      6\u001b[0m     \u001b[0;32mreturn\u001b[0m \u001b[0;34m\"all tests pass :)\"\u001b[0m\u001b[0;34m\u001b[0m\u001b[0m\n\u001b[1;32m      7\u001b[0m \u001b[0;34m\u001b[0m\u001b[0m\n\u001b[0;32m----> 8\u001b[0;31m \u001b[0mprint\u001b[0m\u001b[0;34m(\u001b[0m\u001b[0mtest_setup_lights\u001b[0m\u001b[0;34m(\u001b[0m\u001b[0;34m)\u001b[0m\u001b[0;34m)\u001b[0m\u001b[0;34m\u001b[0m\u001b[0m\n\u001b[0m",
      "\u001b[0;32m<ipython-input-28-28df31fdb2b3>\u001b[0m in \u001b[0;36mtest_setup_lights\u001b[0;34m()\u001b[0m\n\u001b[1;32m      3\u001b[0m     \"\"\"\n\u001b[1;32m      4\u001b[0m     \u001b[0mlight_grid\u001b[0m \u001b[0;34m=\u001b[0m \u001b[0mzeros\u001b[0m\u001b[0;34m(\u001b[0m\u001b[0mshape\u001b[0m\u001b[0;34m=\u001b[0m\u001b[0;34m[\u001b[0m\u001b[0;36m2\u001b[0m\u001b[0;34m,\u001b[0m \u001b[0;36m2\u001b[0m\u001b[0;34m]\u001b[0m\u001b[0;34m)\u001b[0m\u001b[0;34m\u001b[0m\u001b[0m\n\u001b[0;32m----> 5\u001b[0;31m     \u001b[0;32massert\u001b[0m \u001b[0msetup_lights\u001b[0m\u001b[0;34m(\u001b[0m\u001b[0mlight_grid\u001b[0m\u001b[0;34m,\u001b[0m \u001b[0;34m'turn on 0,0 through 0,1'\u001b[0m\u001b[0;34m)\u001b[0m \u001b[0;34m==\u001b[0m \u001b[0marray\u001b[0m\u001b[0;34m(\u001b[0m\u001b[0;34m[\u001b[0m\u001b[0;34m[\u001b[0m \u001b[0;36m1\u001b[0m\u001b[0;34m,\u001b[0m  \u001b[0;36m0\u001b[0m\u001b[0;34m]\u001b[0m\u001b[0;34m,\u001b[0m \u001b[0;34m[\u001b[0m\u001b[0;36m0\u001b[0m\u001b[0;34m,\u001b[0m \u001b[0;36m0\u001b[0m\u001b[0;34m]\u001b[0m\u001b[0;34m]\u001b[0m\u001b[0;34m)\u001b[0m\u001b[0;34m\u001b[0m\u001b[0m\n\u001b[0m\u001b[1;32m      6\u001b[0m     \u001b[0;32mreturn\u001b[0m \u001b[0;34m\"all tests pass :)\"\u001b[0m\u001b[0;34m\u001b[0m\u001b[0m\n\u001b[1;32m      7\u001b[0m \u001b[0;34m\u001b[0m\u001b[0m\n",
      "\u001b[0;31mAssertionError\u001b[0m: "
     ]
    }
   ],
   "source": [
    "def test_setup_lights():\n",
    "    \"\"\"Test setup lights string function\n",
    "    \"\"\"\n",
    "    light_grid = zeros(shape=[2, 2])\n",
    "    assert setup_lights(light_grid, 'turn on 0,0 through 0,0') == array([[ 1,  0], [0, 0]])\n",
    "    return \"all tests pass :)\"\n",
    "\n",
    "print(test_setup_lights())"
   ]
  },
  {
   "cell_type": "code",
   "execution_count": 14,
   "metadata": {
    "collapsed": false
   },
   "outputs": [],
   "source": [
    "# Load data\n",
    "try:\n",
    "    with open(\"data/day_06_input.txt\") as f:\n",
    "        instructions = f.read().splitlines()\n",
    "except IOError:\n",
    "    print(\"File not found.\")"
   ]
  },
  {
   "cell_type": "code",
   "execution_count": 15,
   "metadata": {
    "collapsed": false
   },
   "outputs": [],
   "source": [
    "# How many strings are nice?\n",
    "light_grid = []\n",
    "\n",
    "for instruction in instructions:\n",
    "    setup_lights(light_grid, instruction)"
   ]
  },
  {
   "cell_type": "markdown",
   "metadata": {},
   "source": [
    "<br>"
   ]
  }
 ],
 "metadata": {
  "kernelspec": {
   "display_name": "Python 3",
   "language": "python",
   "name": "python3"
  },
  "language_info": {
   "codemirror_mode": {
    "name": "ipython",
    "version": 3
   },
   "file_extension": ".py",
   "mimetype": "text/x-python",
   "name": "python",
   "nbconvert_exporter": "python",
   "pygments_lexer": "ipython3",
   "version": "3.5.1"
  }
 },
 "nbformat": 4,
 "nbformat_minor": 0
}
