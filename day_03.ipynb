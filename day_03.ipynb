{
 "cells": [
  {
   "cell_type": "markdown",
   "metadata": {},
   "source": [
    "[Day 3](http://adventofcode.com/day/3): Perfectly Spherical Houses in a Vacuum\n",
    "----\n",
    "\n",
    "\n",
    "Repeating something to the intern for the 5th time:\n",
    "\n",
    "![](http://tclhost.com/HiRkhhQ.gif)\n",
    "\n",
    "[Source](http://thecodinglove.com/post/121345196735/repeating-something-to-the-intern-for-the-5th-time)"
   ]
  },
  {
   "cell_type": "code",
   "execution_count": 42,
   "metadata": {
    "collapsed": true
   },
   "outputs": [],
   "source": [
    "reset -fs"
   ]
  },
  {
   "cell_type": "code",
   "execution_count": 83,
   "metadata": {
    "collapsed": false
   },
   "outputs": [],
   "source": [
    "class Santa():\n",
    "\n",
    "    def __init__(self):\n",
    "        self.x = 0\n",
    "        self.y = 0\n",
    "        self.n_houses = 1\n",
    "        self.houses_visited = {(0, 0)}\n",
    "       \n",
    "    def move(self, direction):\n",
    "        \"Move Santa and update novel house count\"\n",
    "        \n",
    "        if direction == '^':\n",
    "            self.y += 1\n",
    "        elif direction == 'v':\n",
    "            self.y -= 1\n",
    "        elif direction == '>':\n",
    "            self.x += 1\n",
    "        elif direction == '<':    \n",
    "            self.x -= 1\n",
    "        \n",
    "        if (self.x, self.y) not in self.houses_visited:\n",
    "            self.n_houses += 1\n",
    "            self.houses_visited.add((self.x, self.y))"
   ]
  },
  {
   "cell_type": "code",
   "execution_count": 13,
   "metadata": {
    "collapsed": true
   },
   "outputs": [],
   "source": [
    "def calc_n_houses(route):\n",
    "    \"\"\" Santa 🎅 is delivering presents to an infinite two-dimensional grid of houses.\n",
    "\n",
    "    He begins by delivering a present to the house at his starting location, \n",
    "    and then an elf at the North Pole calls him via radio and tells him where to move next. \n",
    "    Moves are always exactly one house to the north (^), south (v), east (>), or west (<). \n",
    "    After each move, he delivers another present to the house at his new location.\n",
    "    \"\"\"\n",
    "    pass"
   ]
  },
  {
   "cell_type": "code",
   "execution_count": 85,
   "metadata": {
    "collapsed": false
   },
   "outputs": [
    {
     "name": "stdout",
     "output_type": "stream",
     "text": [
      "all tests pass :)\n"
     ]
    }
   ],
   "source": [
    "def test_calc_n_houses():\n",
    "    \"\"\"Test numbers of houses visited caculator.\n",
    "    \"\"\"\n",
    "    s = Santa()\n",
    "    s.move('>')\n",
    "    assert  s.n_houses == 2\n",
    "#     assert calc_n_houses('^>v<') == 4\n",
    "#     assert calc_n_houses('^v^v^v^v^v') == 2\n",
    "    \n",
    "    return \"all tests pass :)\"\n",
    "\n",
    "print(test_calc_n_houses())"
   ]
  },
  {
   "cell_type": "code",
   "execution_count": 15,
   "metadata": {
    "collapsed": false
   },
   "outputs": [],
   "source": [
    "# Load data\n",
    "try:\n",
    "    with open(\"data/day_03_input.txt\") as f:\n",
    "        route = f.read()\n",
    "except IOError:\n",
    "    print(\"File not found.\")"
   ]
  },
  {
   "cell_type": "code",
   "execution_count": 17,
   "metadata": {
    "collapsed": false
   },
   "outputs": [],
   "source": [
    "# How many houses is Santa 🎅 going to visit?\n",
    "\n",
    "calc_n_houses(route)"
   ]
  },
  {
   "cell_type": "markdown",
   "metadata": {},
   "source": []
  }
 ],
 "metadata": {
  "kernelspec": {
   "display_name": "Python 3",
   "language": "python",
   "name": "python3"
  },
  "language_info": {
   "codemirror_mode": {
    "name": "ipython",
    "version": 3
   },
   "file_extension": ".py",
   "mimetype": "text/x-python",
   "name": "python",
   "nbconvert_exporter": "python",
   "pygments_lexer": "ipython3",
   "version": "3.5.1"
  }
 },
 "nbformat": 4,
 "nbformat_minor": 0
}
