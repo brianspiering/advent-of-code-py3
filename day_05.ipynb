{
 "cells": [
  {
   "cell_type": "markdown",
   "metadata": {},
   "source": [
    "[Day 5](http://adventofcode.com/day/5): Doesn't He Have Intern-Elves For This? \n",
    "----\n",
    "\n",
    "When I find a hard-coded string during code review\n",
    "\n",
    "![](http://tclhost.com/f7IaLC9.gif)\n",
    "\n",
    "[Source](http://thecodinglove.com/post/111849339882/when-i-find-a-hard-coded-string-during-code-review)"
   ]
  },
  {
   "cell_type": "code",
   "execution_count": 77,
   "metadata": {
    "collapsed": false
   },
   "outputs": [],
   "source": [
    "def is_nice(string):\n",
    "    \"\"\"A nice string is one with all of the following properties:\n",
    "\n",
    "    - It contains at least three vowels (aeiou only), like aei, xazegov, or aeiouaeiouaeiou.\n",
    "    - It contains at least one letter that appears twice in a row, like xx, abcdde (dd), or aabbccdd (aa, bb, cc, or dd).\n",
    "    - It does not contain the strings ab, cd, pq, or xy, even if they are part of one of the other requirements.\n",
    "    \"\"\"\n",
    "    vowels = 'aeiou'\n",
    "    disallowed =['ab', 'cd', 'pq', 'xy']\n",
    "    return ((len(set(string).intersection(vowels)) >= 3) \\\n",
    "            or any([letter for i, letter in enumerate(string[:-1]) if string[i] == string[i+1]])) \\\n",
    "            and not(all(string.find(substring) for substring in disallowed)) # TODO: Fix this boolean logic"
   ]
  },
  {
   "cell_type": "code",
   "execution_count": 78,
   "metadata": {
    "collapsed": false
   },
   "outputs": [
    {
     "ename": "AssertionError",
     "evalue": "",
     "output_type": "error",
     "traceback": [
      "\u001b[0;31m---------------------------------------------------------------------------\u001b[0m",
      "\u001b[0;31mAssertionError\u001b[0m                            Traceback (most recent call last)",
      "\u001b[0;32m<ipython-input-78-864aab53a63f>\u001b[0m in \u001b[0;36m<module>\u001b[0;34m()\u001b[0m\n\u001b[1;32m     21\u001b[0m     \u001b[0;32mreturn\u001b[0m \u001b[0;34m\"all tests pass :)\"\u001b[0m\u001b[0;34m\u001b[0m\u001b[0m\n\u001b[1;32m     22\u001b[0m \u001b[0;34m\u001b[0m\u001b[0m\n\u001b[0;32m---> 23\u001b[0;31m \u001b[0mprint\u001b[0m\u001b[0;34m(\u001b[0m\u001b[0mtest_is_nice\u001b[0m\u001b[0;34m(\u001b[0m\u001b[0;34m)\u001b[0m\u001b[0;34m)\u001b[0m\u001b[0;34m\u001b[0m\u001b[0m\n\u001b[0m",
      "\u001b[0;32m<ipython-input-78-864aab53a63f>\u001b[0m in \u001b[0;36mtest_is_nice\u001b[0;34m()\u001b[0m\n\u001b[1;32m      3\u001b[0m     \"\"\"\n\u001b[1;32m      4\u001b[0m     \u001b[0;31m# Property 1\u001b[0m\u001b[0;34m\u001b[0m\u001b[0;34m\u001b[0m\u001b[0m\n\u001b[0;32m----> 5\u001b[0;31m     \u001b[0;32massert\u001b[0m \u001b[0mis_nice\u001b[0m\u001b[0;34m(\u001b[0m\u001b[0;34m'aei'\u001b[0m\u001b[0;34m)\u001b[0m \u001b[0;34m==\u001b[0m \u001b[0;32mTrue\u001b[0m\u001b[0;34m\u001b[0m\u001b[0m\n\u001b[0m\u001b[1;32m      6\u001b[0m     \u001b[0;32massert\u001b[0m \u001b[0mis_nice\u001b[0m\u001b[0;34m(\u001b[0m\u001b[0;34m'xazegov'\u001b[0m\u001b[0;34m)\u001b[0m \u001b[0;34m==\u001b[0m \u001b[0;32mTrue\u001b[0m\u001b[0;34m\u001b[0m\u001b[0m\n\u001b[1;32m      7\u001b[0m     \u001b[0;32massert\u001b[0m \u001b[0mis_nice\u001b[0m\u001b[0;34m(\u001b[0m\u001b[0;34m'aeiouaeiouaeiou'\u001b[0m\u001b[0;34m)\u001b[0m \u001b[0;34m==\u001b[0m \u001b[0;32mTrue\u001b[0m\u001b[0;34m\u001b[0m\u001b[0m\n",
      "\u001b[0;31mAssertionError\u001b[0m: "
     ]
    }
   ],
   "source": [
    "def test_is_nice():\n",
    "    \"\"\"Test is nice string function\n",
    "    \"\"\"\n",
    "    # Property 1\n",
    "    assert is_nice('aei') == True\n",
    "    assert is_nice('xazegov') == True\n",
    "    assert is_nice('aeiouaeiouaeiou') == True\n",
    "\n",
    "    # Property 2\n",
    "    assert is_nice('xx') == True\n",
    "    assert is_nice('abcdde') == True\n",
    "    assert is_nice('aabbccdd') == True\n",
    "    \n",
    "    # Property 3\n",
    "    assert is_nice('ab') == False\n",
    "\n",
    "    # All propertyies\n",
    "    assert is_nice('ugknbfddgicrmopn') == True\n",
    "\n",
    "    \n",
    "    return \"all tests pass :)\"\n",
    "\n",
    "print(test_is_nice())"
   ]
  },
  {
   "cell_type": "code",
   "execution_count": 11,
   "metadata": {
    "collapsed": false
   },
   "outputs": [],
   "source": [
    "# Load data\n",
    "try:\n",
    "    with open(\"data/day_05_input.txt\") as f:\n",
    "        strings = f.read().splitlines()\n",
    "except IOError:\n",
    "    print(\"File not found.\")"
   ]
  },
  {
   "cell_type": "code",
   "execution_count": 17,
   "metadata": {
    "collapsed": false
   },
   "outputs": [
    {
     "data": {
      "text/plain": [
       "0"
      ]
     },
     "execution_count": 17,
     "metadata": {},
     "output_type": "execute_result"
    }
   ],
   "source": [
    "# How many strings are nice?\n",
    "\n",
    "len(list(filter(is_nice, strings)))"
   ]
  },
  {
   "cell_type": "markdown",
   "metadata": {},
   "source": [
    "<br>"
   ]
  }
 ],
 "metadata": {
  "kernelspec": {
   "display_name": "Python 3",
   "language": "python",
   "name": "python3"
  },
  "language_info": {
   "codemirror_mode": {
    "name": "ipython",
    "version": 3
   },
   "file_extension": ".py",
   "mimetype": "text/x-python",
   "name": "python",
   "nbconvert_exporter": "python",
   "pygments_lexer": "ipython3",
   "version": "3.5.1"
  }
 },
 "nbformat": 4,
 "nbformat_minor": 0
}
