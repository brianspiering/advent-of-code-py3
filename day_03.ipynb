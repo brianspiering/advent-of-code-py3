{
 "cells": [
  {
   "cell_type": "markdown",
   "metadata": {},
   "source": [
    "[Day 3](http://adventofcode.com/day/3): Perfectly Spherical Houses in a Vacuum\n",
    "----\n",
    "\n",
    "\n",
    "Repeating something to the intern for the 5th time:\n",
    "\n",
    "![](http://tclhost.com/HiRkhhQ.gif)\n",
    "\n",
    "[Source](http://thecodinglove.com/post/121345196735/repeating-something-to-the-intern-for-the-5th-time)"
   ]
  },
  {
   "cell_type": "code",
   "execution_count": 13,
   "metadata": {
    "collapsed": true
   },
   "outputs": [],
   "source": [
    "def calc_n_houses(route):\n",
    "    \"\"\" Santa 🎅 is delivering presents to an infinite two-dimensional grid of houses.\n",
    "\n",
    "    He begins by delivering a present to the house at his starting location, \n",
    "    and then an elf at the North Pole calls him via radio and tells him where to move next. \n",
    "    Moves are always exactly one house to the north (^), south (v), east (>), or west (<). \n",
    "    After each move, he delivers another present to the house at his new location.\n",
    "    \"\"\"\n",
    "    pass"
   ]
  },
  {
   "cell_type": "code",
   "execution_count": 14,
   "metadata": {
    "collapsed": false
   },
   "outputs": [
    {
     "ename": "AssertionError",
     "evalue": "",
     "output_type": "error",
     "traceback": [
      "\u001b[0;31m---------------------------------------------------------------------------\u001b[0m",
      "\u001b[0;31mAssertionError\u001b[0m                            Traceback (most recent call last)",
      "\u001b[0;32m<ipython-input-14-77c173f1e2f1>\u001b[0m in \u001b[0;36m<module>\u001b[0;34m()\u001b[0m\n\u001b[1;32m      8\u001b[0m     \u001b[0;32mreturn\u001b[0m \u001b[0;34m\"all tests pass :)\"\u001b[0m\u001b[0;34m\u001b[0m\u001b[0m\n\u001b[1;32m      9\u001b[0m \u001b[0;34m\u001b[0m\u001b[0m\n\u001b[0;32m---> 10\u001b[0;31m \u001b[0mprint\u001b[0m\u001b[0;34m(\u001b[0m\u001b[0mtest_calc_n_houses\u001b[0m\u001b[0;34m(\u001b[0m\u001b[0;34m)\u001b[0m\u001b[0;34m)\u001b[0m\u001b[0;34m\u001b[0m\u001b[0m\n\u001b[0m",
      "\u001b[0;32m<ipython-input-14-77c173f1e2f1>\u001b[0m in \u001b[0;36mtest_calc_n_houses\u001b[0;34m()\u001b[0m\n\u001b[1;32m      2\u001b[0m     \"\"\"Test numbers of houses visited caculator.\n\u001b[1;32m      3\u001b[0m     \"\"\"\n\u001b[0;32m----> 4\u001b[0;31m     \u001b[0;32massert\u001b[0m \u001b[0mcalc_n_houses\u001b[0m\u001b[0;34m(\u001b[0m\u001b[0;34m'>'\u001b[0m\u001b[0;34m)\u001b[0m \u001b[0;34m==\u001b[0m \u001b[0;36m2\u001b[0m\u001b[0;34m\u001b[0m\u001b[0m\n\u001b[0m\u001b[1;32m      5\u001b[0m     \u001b[0;32massert\u001b[0m \u001b[0mcalc_n_houses\u001b[0m\u001b[0;34m(\u001b[0m\u001b[0;34m'^>v<'\u001b[0m\u001b[0;34m)\u001b[0m \u001b[0;34m==\u001b[0m \u001b[0;36m4\u001b[0m\u001b[0;34m\u001b[0m\u001b[0m\n\u001b[1;32m      6\u001b[0m     \u001b[0;32massert\u001b[0m \u001b[0mcalc_n_houses\u001b[0m\u001b[0;34m(\u001b[0m\u001b[0;34m'^v^v^v^v^v'\u001b[0m\u001b[0;34m)\u001b[0m \u001b[0;34m==\u001b[0m \u001b[0;36m2\u001b[0m\u001b[0;34m\u001b[0m\u001b[0m\n",
      "\u001b[0;31mAssertionError\u001b[0m: "
     ]
    }
   ],
   "source": [
    "def test_calc_n_houses():\n",
    "    \"\"\"Test numbers of houses visited caculator.\n",
    "    \"\"\"\n",
    "    assert calc_n_houses('>') == 2\n",
    "    assert calc_n_houses('^>v<') == 4\n",
    "    assert calc_n_houses('^v^v^v^v^v') == 2\n",
    "    \n",
    "    return \"all tests pass :)\"\n",
    "\n",
    "print(test_calc_n_houses())"
   ]
  },
  {
   "cell_type": "code",
   "execution_count": 15,
   "metadata": {
    "collapsed": false
   },
   "outputs": [],
   "source": [
    "# Load data\n",
    "try:\n",
    "    with open(\"data/day_03_input.txt\") as f:\n",
    "        route = f.read()\n",
    "except IOError:\n",
    "    print(\"File not found.\")"
   ]
  },
  {
   "cell_type": "code",
   "execution_count": 17,
   "metadata": {
    "collapsed": false
   },
   "outputs": [],
   "source": [
    "# How many houses is Santa 🎅 going to visit?\n",
    "\n",
    "calc_n_houses(route)"
   ]
  },
  {
   "cell_type": "markdown",
   "metadata": {},
   "source": []
  }
 ],
 "metadata": {
  "kernelspec": {
   "display_name": "Python 3",
   "language": "python",
   "name": "python3"
  },
  "language_info": {
   "codemirror_mode": {
    "name": "ipython",
    "version": 3
   },
   "file_extension": ".py",
   "mimetype": "text/x-python",
   "name": "python",
   "nbconvert_exporter": "python",
   "pygments_lexer": "ipython3",
   "version": "3.5.1"
  }
 },
 "nbformat": 4,
 "nbformat_minor": 0
}
